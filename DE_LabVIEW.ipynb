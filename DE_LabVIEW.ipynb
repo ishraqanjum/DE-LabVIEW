{
 "cells": [
  {
   "cell_type": "code",
   "execution_count": 21,
   "metadata": {},
   "outputs": [],
   "source": [
    "import numpy as np\n",
    "\n",
    "def initialize_population(bounds, population_size):\n",
    "    \"\"\"\n",
    "    Initialize a population of individuals within given bounds.\n",
    "\n",
    "    Args:\n",
    "        bounds (list of tuples): A list of tuples representing the lower and upper bounds for each dimension.\n",
    "        population_size (int): The size of the population to be generated.\n",
    "\n",
    "    Returns:\n",
    "        np.ndarray: A 2D array representing the initialized population.\n",
    "    \"\"\"\n",
    "    # Accessing the dimensionality of the input vector\n",
    "    dimensions = len(bounds)\n",
    "    \n",
    "    # Initializing the population to random size\n",
    "    pop = np.random.rand(population_size, dimensions)\n",
    "    \n",
    "    # Obtaining the extreme values for the bounds\n",
    "    min_b, max_b = np.asarray(bounds).T\n",
    "    \n",
    "    # Absolute range per component in bounds\n",
    "    diff = np.fabs(min_b - max_b)\n",
    "    \n",
    "    # De-normalizing (from (0-1) to another range) the population\n",
    "    pop_denorm = min_b + pop * diff\n",
    "    \n",
    "    return pop_denorm, bounds"
   ]
  },
  {
   "cell_type": "code",
   "execution_count": 22,
   "metadata": {},
   "outputs": [],
   "source": [
    "def get_best_individual(fitness, pop_denorm, bounds):\n",
    "    \"\"\"\n",
    "    Get the best individual from the population based on fitness values.\n",
    "\n",
    "    Args:\n",
    "        fitness (np.ndarray): Fitness values of individuals.\n",
    "        pop_denorm (np.ndarray): Denormalized population of individuals.\n",
    "\n",
    "    Returns:\n",
    "        int: Index of the best individual.\n",
    "        np.ndarray: Best individual vector.\n",
    "        ....\n",
    "    \"\"\"\n",
    "    best_idx = np.argmin(fitness)\n",
    "    best = pop_denorm[best_idx]\n",
    "    index =1\n",
    "    return fitness, pop_denorm, bounds, best_idx, best, index"
   ]
  },
  {
   "cell_type": "code",
   "execution_count": 23,
   "metadata": {},
   "outputs": [],
   "source": [
    "import numpy as np\n",
    "\n",
    "def perform_mutation(index, pop_denorm, bounds, fitness, best_idx, best):\n",
    "    \"\"\"\n",
    "    Perform mutation step of Differential Evolution optimization.\n",
    "\n",
    "    Args:\n",
    "        index (int): Index of the individual in the population.\n",
    "        pop_denorm (np.ndarray): Current population of individuals.\n",
    "        mutation (float): Mutation factor.\n",
    "        cross_p (float): Crossover probability.\n",
    "        dimensions (int): Number of dimensions.\n",
    "        bounds (list of tuples): A list of tuples representing the lower and upper bounds for each dimension.\n",
    "\n",
    "    Returns:\n",
    "        np.ndarray: Trial vector after performing mutation.\n",
    "    \"\"\"\n",
    "    mutation:float = 0.8 \n",
    "    cross_p:float = 0.7 \n",
    "    dimensions = len(bounds)\n",
    "    population_size = len(pop_denorm)\n",
    "    min_b, max_b = np.asarray(bounds).T\n",
    "    diff = np.fabs(min_b - max_b)\n",
    "    pop = (pop_denorm - min_b)/diff\n",
    "    \n",
    "    idxs = [idx for idx in range(population_size) if idx != index]\n",
    "    a, b, c = pop[np.random.choice(idxs, 3, replace=False)]\n",
    "    mutant = np.clip(a + mutation * (b - c), 0, 1)\n",
    "    cross_points = np.random.rand(dimensions) < cross_p\n",
    "    if not np.any(cross_points):\n",
    "        cross_points[np.random.randint(0, dimensions)] = True\n",
    "    trial = np.where(cross_points, mutant, pop[index])\n",
    "    trial_denorm = min_b + trial * diff\n",
    "    \n",
    "    return pop_denorm, trial_denorm, fitness, best_idx, best, index"
   ]
  },
  {
   "cell_type": "code",
   "execution_count": 24,
   "metadata": {},
   "outputs": [],
   "source": [
    "def update_population(index, f_trial_denorm, fitness, pop_denorm, trial_denorm, best_idx, best):\n",
    "    \"\"\"\n",
    "    Update the population based on the trial result.\n",
    "\n",
    "    Args:\n",
    "        index (int): Index of the individual in the population.\n",
    "        f (float): Fitness value of the trial candidate.\n",
    "        fitness (np.ndarray): Array of fitness values for each individual in the population.\n",
    "        pop (np.ndarray): Current population of individuals.\n",
    "        trial (np.ndarray): Trial vector obtained from mutation and crossover.\n",
    "        best_idx (int): Index of the current best individual.\n",
    "        best (np.ndarray): Current best individual's denormalized vector.\n",
    "        trial_denorm (np.ndarray): Denormalized trial vector.\n",
    "\n",
    "    Returns:\n",
    "        np.ndarray: Updated fitness values after performing the update step.\n",
    "        np.ndarray: Updated population after performing the update step.\n",
    "        int: Updated index of the best individual after performing the update step.\n",
    "        np.ndarray: Updated best individual's denormalized vector after performing the update step.\n",
    "    \"\"\"\n",
    "    \n",
    "    if f_trial_denorm < fitness[index]:\n",
    "        fitness[index] = f_trial_denorm \n",
    "        pop_denorm[index] = trial_denorm\n",
    "        if f_trial_denorm < fitness[best_idx]:\n",
    "            best_idx = index\n",
    "            best = trial_denorm\n",
    "            \n",
    "    index += 1\n",
    "    \n",
    "    return fitness, pop_denorm, bounds, best_idx, best, index"
   ]
  },
  {
   "cell_type": "code",
   "execution_count": 25,
   "metadata": {},
   "outputs": [],
   "source": [
    "bounds=((-5.31305788e-01, -4.17101926e-01), (-3.14772231e+08, 3.01620182e+08), (-2.55151879e+15, 1.56859005e+15))\n",
    "population_size = 35\n",
    "# dimensions = len(bounds)\n",
    "pop_denorm = initialize_population(bounds, population_size)"
   ]
  },
  {
   "cell_type": "code",
   "execution_count": 26,
   "metadata": {},
   "outputs": [],
   "source": [
    "import random\n",
    "fitness = [random.random() for _ in range(35)]"
   ]
  },
  {
   "cell_type": "code",
   "execution_count": 27,
   "metadata": {},
   "outputs": [],
   "source": [
    "fitness, pop_denorm, bounds, best_idx, best, index = get_best_individual(fitness, pop_denorm, bounds)"
   ]
  },
  {
   "cell_type": "code",
   "execution_count": 28,
   "metadata": {},
   "outputs": [],
   "source": [
    "# index=1\n",
    "pop_denorm, trial_denorm, fitness, best_idx, best, index = perform_mutation(index, pop_denorm, bounds, fitness, best_idx, best)"
   ]
  },
  {
   "cell_type": "code",
   "execution_count": 29,
   "metadata": {},
   "outputs": [],
   "source": [
    "f_trial_denorm = fitness[1]"
   ]
  },
  {
   "cell_type": "code",
   "execution_count": 19,
   "metadata": {},
   "outputs": [],
   "source": [
    "fitness, pop_denorm, bounds, best_idx, best, index = update_population(index, f_trial_denorm, fitness, pop_denorm, trial_denorm, best_idx, best)"
   ]
  }
 ],
 "metadata": {
  "kernelspec": {
   "display_name": "Python 3",
   "language": "python",
   "name": "python3"
  },
  "language_info": {
   "codemirror_mode": {
    "name": "ipython",
    "version": 3
   },
   "file_extension": ".py",
   "mimetype": "text/x-python",
   "name": "python",
   "nbconvert_exporter": "python",
   "pygments_lexer": "ipython3",
   "version": "3.8.5"
  }
 },
 "nbformat": 4,
 "nbformat_minor": 4
}
